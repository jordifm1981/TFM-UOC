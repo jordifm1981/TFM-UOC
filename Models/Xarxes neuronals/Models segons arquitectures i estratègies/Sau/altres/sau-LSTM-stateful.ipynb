{
 "cells": [
  {
   "cell_type": "code",
   "execution_count": 87,
   "metadata": {},
   "outputs": [],
   "source": [
    "from numpy import array\n",
    "import numpy\n",
    "import matplotlib.pyplot as plt\n",
    "from keras.models import Sequential\n",
    "from keras.layers import Dense\n",
    "from keras.layers import LSTM\n",
    "from keras.layers import Dropout\n",
    "from sklearn.preprocessing import MinMaxScaler\n",
    "from sklearn.metrics import mean_squared_error\n",
    "import pandas as pd\n",
    "from pandas import read_csv\n",
    "from math import sqrt\n",
    "from sklearn.metrics import mean_squared_error\n"
   ]
  },
  {
   "cell_type": "code",
   "execution_count": 88,
   "metadata": {},
   "outputs": [],
   "source": [
    "# fixem random seed\n",
    "numpy.random.seed(7)\n",
    "\n",
    "dadesSau = read_csv('dadesSau.csv', sep=';',header=0, index_col=0)\n",
    "dataframe = pd.DataFrame(dadesSau.loc[dadesSau.index >= '2009-01-01']['Volum'])\n",
    "dataset = dataframe.values\n",
    "dataset = dataset.astype('float32')\n"
   ]
  },
  {
   "cell_type": "code",
   "execution_count": 89,
   "metadata": {},
   "outputs": [],
   "source": [
    "# Normalitzem\n",
    "\n",
    "scaler = MinMaxScaler(feature_range=(0, 1))\n",
    "dataset = scaler.fit_transform(dataset)\n",
    "dataset = [item for sublist in dataset for item in sublist]\n"
   ]
  },
  {
   "cell_type": "code",
   "execution_count": 90,
   "metadata": {},
   "outputs": [],
   "source": [
    "# transformem les dades a format seqüencia d'entrada i seqüencia de sortida\n",
    "def split_sequence(sequence, n_steps_in, n_steps_out):\n",
    "    X, y = list(), list()\n",
    "    for i in range(len(sequence)):\n",
    "        # find the end of this pattern\n",
    "        end_ix = i + n_steps_in\n",
    "        out_end_ix = end_ix + n_steps_out\n",
    "        # check if we are beyond the sequence\n",
    "        if out_end_ix > len(sequence):\n",
    "            break\n",
    "        # gather input and output parts of the pattern\n",
    "        seq_x, seq_y = sequence[i:end_ix], sequence[end_ix:out_end_ix]\n",
    "        X.append(seq_x)\n",
    "        y.append(seq_y)\n",
    "    return array(X), array(y)\n"
   ]
  },
  {
   "cell_type": "code",
   "execution_count": 91,
   "metadata": {},
   "outputs": [],
   "source": [
    "def train_test (n_steps_in, n_steps_out, propTrainTest, dataset):\n",
    "    \n",
    "    n_steps_in, n_steps_out = n_steps_in, n_steps_out\n",
    "    # split train test\n",
    "    X, y = split_sequence(dataset, n_steps_in, n_steps_out)\n",
    "    \n",
    "    train_size = int(len(X) * propTrainTest)\n",
    "    test_size = len(dataset) - train_size\n",
    "    train_X, test_X = X[0:train_size,:], X[train_size:len(X),:]\n",
    "    train_Y, test_Y = y[0:train_size,:], y[train_size:len(y),:]\n",
    "    \n",
    "    return (train_X, test_X, train_Y, test_Y)"
   ]
  },
  {
   "cell_type": "code",
   "execution_count": 92,
   "metadata": {},
   "outputs": [],
   "source": [
    "n_steps_in = 26\n",
    "n_steps_out = 15\n",
    "propTrainTest = 0.8\n",
    "trainX, testX, trainY, testY = train_test(n_steps_in, n_steps_out, propTrainTest, dataset)"
   ]
  },
  {
   "cell_type": "code",
   "execution_count": 93,
   "metadata": {},
   "outputs": [],
   "source": [
    "batch_size = 32\n",
    "n_features = 1\n",
    "train_X = trainX.reshape((trainX.shape[0], trainX.shape[1], n_features))\n",
    "test_X = testX.reshape((testX.shape[0], testX.shape[1], n_features))"
   ]
  },
  {
   "cell_type": "markdown",
   "metadata": {},
   "source": [
    "Fem la prova amb stateful=True, que ens obliga a reiniciar l'estat del model després de cada epoch d'entrenament. El model s'entrena un a un, fent un reset_states() al finalitzar cada epoch."
   ]
  },
  {
   "cell_type": "code",
   "execution_count": 94,
   "metadata": {},
   "outputs": [],
   "source": [
    "model = Sequential()\n",
    "model.add(LSTM(100, activation='sigmoid', batch_input_shape=(batch_size, n_steps_in, n_features), stateful=True))\n",
    "#model.add(LSTM(100, activation='sigmoid'))\n",
    "model.add(Dense(n_steps_out))\n",
    "model.compile(optimizer='adam', loss='mse')\n",
    "# fit model\n",
    "for i in range(100):\n",
    "\tmodel.fit(train_X, trainY, epochs=1, batch_size=batch_size, verbose=0, shuffle=False)\n",
    "\tmodel.reset_states()\n",
    "    \n"
   ]
  },
  {
   "cell_type": "code",
   "execution_count": 95,
   "metadata": {},
   "outputs": [],
   "source": [
    "# prediccions\n",
    "testPredict = model.predict(test_X, batch_size=batch_size)\n",
    "model.reset_states()\n",
    "# invertim prediccions per tenir-les en l'escala original\n",
    "testPredict = scaler.inverse_transform(testPredict)\n",
    "testY = scaler.inverse_transform(testY)\n"
   ]
  },
  {
   "cell_type": "code",
   "execution_count": 96,
   "metadata": {},
   "outputs": [],
   "source": [
    "def evaluate_forecasts(actual, predicted):\n",
    "    scores = list()\n",
    "    # calculem RMSE per cada dia\n",
    "    for i in range(actual.shape[1]):\n",
    "        # calculem MSE\n",
    "        mse = mean_squared_error(actual[:, i], predicted[:, i])\n",
    "        # calculem RMSE\n",
    "        rmse = sqrt(mse)\n",
    "        # store\n",
    "        scores.append(rmse)\n",
    "    # calcul global de RMSE\n",
    "    s = 0\n",
    "    for row in range(actual.shape[0]):\n",
    "        for col in range(actual.shape[1]):\n",
    "            s += (actual[row, col] - predicted[row, col])**2\n",
    "    score = sqrt(s / (actual.shape[0] * actual.shape[1]))\n",
    "    return score, scores"
   ]
  },
  {
   "cell_type": "code",
   "execution_count": 97,
   "metadata": {},
   "outputs": [
    {
     "name": "stdout",
     "output_type": "stream",
     "text": [
      "7.3252946897817415\n"
     ]
    }
   ],
   "source": [
    "RMSE_TOT, RMSE_days = evaluate_forecasts(testY,testPredict)\n",
    "print(RMSE_TOT)"
   ]
  },
  {
   "cell_type": "code",
   "execution_count": 99,
   "metadata": {},
   "outputs": [
    {
     "name": "stdout",
     "output_type": "stream",
     "text": [
      "╒══════════╤══════════╤══════════╤══════════╤══════════╤══════════╤══════════╤══════════╤══════════╤═══════════╕\n",
      "│   step 1 │   step 2 │   step 3 │   step 4 │   step 5 │   step 6 │   step 7 │   step 8 │   step 9 │   step 10 │\n",
      "╞══════════╪══════════╪══════════╪══════════╪══════════╪══════════╪══════════╪══════════╪══════════╪═══════════╡\n",
      "│  1.96102 │  3.05772 │  3.85399 │  4.56216 │  5.11861 │  5.97537 │  6.48244 │  7.17898 │  7.72434 │   8.31319 │\n",
      "╘══════════╧══════════╧══════════╧══════════╧══════════╧══════════╧══════════╧══════════╧══════════╧═══════════╛\n",
      "╒═══════════╤═══════════╤═══════════╤═══════════╤═══════════╕\n",
      "│   step 11 │   step 12 │   step 13 │   step 14 │   step 15 │\n",
      "╞═══════════╪═══════════╪═══════════╪═══════════╪═══════════╡\n",
      "│   8.60012 │   9.37274 │   9.73228 │   10.1613 │   10.5838 │\n",
      "╘═══════════╧═══════════╧═══════════╧═══════════╧═══════════╛\n"
     ]
    }
   ],
   "source": [
    "from tabulate import tabulate\n",
    "headers=[]\n",
    "for i in range(len(RMSE_days)):\n",
    "    headers.append('step '+str(i+1))\n",
    "\n",
    "\n",
    "table1 = tabulate([RMSE_days[0:10]], headers, tablefmt=\"fancy_grid\")\n",
    "table2 = tabulate([RMSE_days[10:15]], headers[10:15], tablefmt=\"fancy_grid\")\n",
    "#output\n",
    "print(table1)\n",
    "print(table2)"
   ]
  },
  {
   "cell_type": "code",
   "execution_count": 100,
   "metadata": {},
   "outputs": [
    {
     "data": {
      "image/png": "[encoded data removed]",
      "text/plain": [
       "<matplotlib.figure.Figure at 0xf311f440b8>"
      ]
     },
     "metadata": {},
     "output_type": "display_data"
    }
   ],
   "source": [
    "dies = list()\n",
    "    # calculem RMSE per cada dia\n",
    "    \n",
    "for i in range(testY.shape[1]):\n",
    "    # calculem MSE\n",
    "    dies.append((testY[:, i], testPredict[:, i]))\n",
    "\n",
    "\n",
    "plt.plot(dies[0][0])\n",
    "plt.plot(dies[0][1])\n",
    "plt.show()"
   ]
  },
  {
   "cell_type": "code",
   "execution_count": null,
   "metadata": {},
   "outputs": [],
   "source": []
  }
 ],
 "metadata": {
  "kernelspec": {
   "display_name": "Python 3",
   "language": "python",
   "name": "python3"
  },
  "language_info": {
   "codemirror_mode": {
    "name": "ipython",
    "version": 3
   },
   "file_extension": ".py",
   "mimetype": "text/x-python",
   "name": "python",
   "nbconvert_exporter": "python",
   "pygments_lexer": "ipython3",
   "version": "3.6.5"
  }
 },
 "nbformat": 4,
 "nbformat_minor": 2
}
